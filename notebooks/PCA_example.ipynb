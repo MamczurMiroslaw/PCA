{
 "cells": [
  {
   "cell_type": "markdown",
   "metadata": {},
   "source": [
    "### PCA example\n",
    "PCA to najbardziej popularny algorytm redukcji wymiarów. W ogólnym skrócie polega on na rzutowaniu danych do przestrzeni o mniejszej liczbie wymiarów tak, aby jak najlepiej zachować strukturę danych. "
   ]
  },
  {
   "cell_type": "markdown",
   "metadata": {},
   "source": [
    "Poniżej przykład wykorzystania PCA do redukcji wymiarów na podstawie zbioru o Bankach na podstawie raportów dostępnych na stronie www.PRnews.pl na dzień 2019-10-15."
   ]
  },
  {
   "cell_type": "code",
   "execution_count": 1,
   "metadata": {
    "ExecuteTime": {
     "end_time": "2019-10-15T20:27:37.539578Z",
     "start_time": "2019-10-15T20:27:27.814350Z"
    }
   },
   "outputs": [],
   "source": [
    "import pandas as pd\n",
    "import os\n",
    "import seaborn as sns\n",
    "import matplotlib.pyplot as plt\n",
    "\n",
    "from sklearn.preprocessing import MinMaxScaler, StandardScaler, LabelEncoder\n",
    "from sklearn.decomposition import PCA\n",
    "\n",
    "seed = 2019"
   ]
  },
  {
   "cell_type": "markdown",
   "metadata": {
    "ExecuteTime": {
     "end_time": "2019-06-24T10:07:57.804776Z",
     "start_time": "2019-06-24T10:07:57.796736Z"
    }
   },
   "source": [
    "#### Import danych"
   ]
  },
  {
   "cell_type": "code",
   "execution_count": 2,
   "metadata": {
    "ExecuteTime": {
     "end_time": "2019-10-15T20:27:38.777064Z",
     "start_time": "2019-10-15T20:27:37.543566Z"
    }
   },
   "outputs": [
    {
     "data": {
      "text/html": [
       "<div>\n",
       "<style scoped>\n",
       "    .dataframe tbody tr th:only-of-type {\n",
       "        vertical-align: middle;\n",
       "    }\n",
       "\n",
       "    .dataframe tbody tr th {\n",
       "        vertical-align: top;\n",
       "    }\n",
       "\n",
       "    .dataframe thead th {\n",
       "        text-align: right;\n",
       "    }\n",
       "</style>\n",
       "<table border=\"1\" class=\"dataframe\">\n",
       "  <thead>\n",
       "    <tr style=\"text-align: right;\">\n",
       "      <th></th>\n",
       "      <th>Nazwa</th>\n",
       "      <th>2019Q2_aktywa</th>\n",
       "      <th>2019Q1_aktywa</th>\n",
       "      <th>2018Q2_aktywa</th>\n",
       "      <th>2019Q2_mobile</th>\n",
       "      <th>2019Q1_mobile</th>\n",
       "      <th>2018Q2_mobile</th>\n",
       "      <th>2019Q2_internet</th>\n",
       "      <th>2019Q1_internet</th>\n",
       "      <th>2018Q2_internet</th>\n",
       "      <th>...</th>\n",
       "      <th>2018Q2_placowki</th>\n",
       "      <th>2019Q2_partner</th>\n",
       "      <th>2019Q1_partner</th>\n",
       "      <th>2018Q2_partner</th>\n",
       "      <th>2019Q2_etat</th>\n",
       "      <th>2019Q1_etat</th>\n",
       "      <th>2018Q2_etat</th>\n",
       "      <th>2019Q2_etat_grupa</th>\n",
       "      <th>2019Q1_etat_grupa</th>\n",
       "      <th>2018Q2_etat_grupa</th>\n",
       "    </tr>\n",
       "  </thead>\n",
       "  <tbody>\n",
       "    <tr>\n",
       "      <th>12</th>\n",
       "      <td>PKO BP</td>\n",
       "      <td>301339000</td>\n",
       "      <td>298403000</td>\n",
       "      <td>276088000</td>\n",
       "      <td>2136646</td>\n",
       "      <td>2012570</td>\n",
       "      <td>1534243</td>\n",
       "      <td>8680400</td>\n",
       "      <td>10935000</td>\n",
       "      <td>10262200</td>\n",
       "      <td>...</td>\n",
       "      <td>1176</td>\n",
       "      <td>535</td>\n",
       "      <td>557</td>\n",
       "      <td>600</td>\n",
       "      <td>24100</td>\n",
       "      <td>24200</td>\n",
       "      <td>24700</td>\n",
       "      <td>28100</td>\n",
       "      <td>27900</td>\n",
       "      <td>28500</td>\n",
       "    </tr>\n",
       "    <tr>\n",
       "      <th>2</th>\n",
       "      <td>Bank Pekao</td>\n",
       "      <td>189574297</td>\n",
       "      <td>189494130</td>\n",
       "      <td>178781524</td>\n",
       "      <td>889475</td>\n",
       "      <td>778537</td>\n",
       "      <td>623599</td>\n",
       "      <td>3340969</td>\n",
       "      <td>3330006</td>\n",
       "      <td>3171625</td>\n",
       "      <td>...</td>\n",
       "      <td>851</td>\n",
       "      <td>-1</td>\n",
       "      <td>-1</td>\n",
       "      <td>-1</td>\n",
       "      <td>14436</td>\n",
       "      <td>14591</td>\n",
       "      <td>15182</td>\n",
       "      <td>16613</td>\n",
       "      <td>16815</td>\n",
       "      <td>17307</td>\n",
       "    </tr>\n",
       "    <tr>\n",
       "      <th>14</th>\n",
       "      <td>Santander Bank Polska</td>\n",
       "      <td>181300141</td>\n",
       "      <td>185555589</td>\n",
       "      <td>147610558</td>\n",
       "      <td>1111843</td>\n",
       "      <td>1048828</td>\n",
       "      <td>814928</td>\n",
       "      <td>3904082</td>\n",
       "      <td>3825991</td>\n",
       "      <td>3259127</td>\n",
       "      <td>...</td>\n",
       "      <td>540</td>\n",
       "      <td>124</td>\n",
       "      <td>124</td>\n",
       "      <td>113</td>\n",
       "      <td>11113</td>\n",
       "      <td>11695</td>\n",
       "      <td>11174</td>\n",
       "      <td>14058</td>\n",
       "      <td>14642</td>\n",
       "      <td>14286</td>\n",
       "    </tr>\n",
       "    <tr>\n",
       "      <th>10</th>\n",
       "      <td>ING Bank Śląski</td>\n",
       "      <td>147057000</td>\n",
       "      <td>142042800</td>\n",
       "      <td>127108000</td>\n",
       "      <td>1372000</td>\n",
       "      <td>1288000</td>\n",
       "      <td>1014585</td>\n",
       "      <td>3975000</td>\n",
       "      <td>3894000</td>\n",
       "      <td>3605069</td>\n",
       "      <td>...</td>\n",
       "      <td>352</td>\n",
       "      <td>-1</td>\n",
       "      <td>-1</td>\n",
       "      <td>-1</td>\n",
       "      <td>7693</td>\n",
       "      <td>7644</td>\n",
       "      <td>7630</td>\n",
       "      <td>8119</td>\n",
       "      <td>8063</td>\n",
       "      <td>8026</td>\n",
       "    </tr>\n",
       "    <tr>\n",
       "      <th>11</th>\n",
       "      <td>mBank</td>\n",
       "      <td>143942202</td>\n",
       "      <td>142564251</td>\n",
       "      <td>132012206</td>\n",
       "      <td>1673786</td>\n",
       "      <td>1571093</td>\n",
       "      <td>1296379</td>\n",
       "      <td>3928090</td>\n",
       "      <td>3914732</td>\n",
       "      <td>3676510</td>\n",
       "      <td>...</td>\n",
       "      <td>140</td>\n",
       "      <td>41</td>\n",
       "      <td>41</td>\n",
       "      <td>41</td>\n",
       "      <td>5993</td>\n",
       "      <td>5919</td>\n",
       "      <td>5682</td>\n",
       "      <td>6677</td>\n",
       "      <td>6576</td>\n",
       "      <td>6358</td>\n",
       "    </tr>\n",
       "  </tbody>\n",
       "</table>\n",
       "<p>5 rows × 49 columns</p>\n",
       "</div>"
      ],
      "text/plain": [
       "                    Nazwa  2019Q2_aktywa  2019Q1_aktywa  2018Q2_aktywa  \\\n",
       "12                 PKO BP      301339000      298403000      276088000   \n",
       "2              Bank Pekao      189574297      189494130      178781524   \n",
       "14  Santander Bank Polska      181300141      185555589      147610558   \n",
       "10        ING Bank Śląski      147057000      142042800      127108000   \n",
       "11                  mBank      143942202      142564251      132012206   \n",
       "\n",
       "    2019Q2_mobile  2019Q1_mobile  2018Q2_mobile  2019Q2_internet  \\\n",
       "12        2136646        2012570        1534243          8680400   \n",
       "2          889475         778537         623599          3340969   \n",
       "14        1111843        1048828         814928          3904082   \n",
       "10        1372000        1288000        1014585          3975000   \n",
       "11        1673786        1571093        1296379          3928090   \n",
       "\n",
       "    2019Q1_internet  2018Q2_internet        ...          2018Q2_placowki  \\\n",
       "12         10935000         10262200        ...                     1176   \n",
       "2           3330006          3171625        ...                      851   \n",
       "14          3825991          3259127        ...                      540   \n",
       "10          3894000          3605069        ...                      352   \n",
       "11          3914732          3676510        ...                      140   \n",
       "\n",
       "    2019Q2_partner  2019Q1_partner  2018Q2_partner  2019Q2_etat  2019Q1_etat  \\\n",
       "12             535             557             600        24100        24200   \n",
       "2               -1              -1              -1        14436        14591   \n",
       "14             124             124             113        11113        11695   \n",
       "10              -1              -1              -1         7693         7644   \n",
       "11              41              41              41         5993         5919   \n",
       "\n",
       "    2018Q2_etat  2019Q2_etat_grupa  2019Q1_etat_grupa  2018Q2_etat_grupa  \n",
       "12        24700              28100              27900              28500  \n",
       "2         15182              16613              16815              17307  \n",
       "14        11174              14058              14642              14286  \n",
       "10         7630               8119               8063               8026  \n",
       "11         5682               6677               6576               6358  \n",
       "\n",
       "[5 rows x 49 columns]"
      ]
     },
     "execution_count": 2,
     "metadata": {},
     "output_type": "execute_result"
    }
   ],
   "source": [
    "df = pd.read_excel('../data/data.xlsx', sheet_name='dataframe')\n",
    "df.sort_values(by='2019Q2_aktywa', ascending=False).head()"
   ]
  },
  {
   "cell_type": "markdown",
   "metadata": {},
   "source": [
    "#### Preprocessing zbioru: standaryzacja i obsłużenie pustych wartości.   "
   ]
  },
  {
   "cell_type": "markdown",
   "metadata": {},
   "source": [
    "Przed wykonaniem PCA należy dokonać standaryzacji zbioru danych (średnia = 0, wariancja = 1) ze względu na różną skalę jaka może występować w zmiennych - np. waga i dochody. Dane są następnie nnormalizowane (skalowane do przedziału [0,1]).\n",
    "<br/>\n",
    "\n",
    "Dodatkowo implementacja PCA w pakiecie scikit-learn nie obsługuje pustych wartości, dlatego też należy odpowiednio je obsłużyć. \n",
    "<br/>\n",
    "\n",
    "**Uwaga**: W tym przypadku zapominamy, że mamy jakikolwiek zbiór do walidacji\\testowania modelu (jak ma to miejsce dla uczenia nadzorowanego) i wykonujemy funkcję fit_transform() na całym zbiorze (który może być traktowany jako zbiór treningowy). Dla uczenia nadzorowanego wykonywalibyśmy też krok następny, czyli funkcję transform() na zbiorze walidacyjnym\\testowym."
   ]
  },
  {
   "cell_type": "code",
   "execution_count": 3,
   "metadata": {
    "ExecuteTime": {
     "end_time": "2019-10-15T20:27:38.897095Z",
     "start_time": "2019-10-15T20:27:38.781064Z"
    }
   },
   "outputs": [
    {
     "data": {
      "text/html": [
       "<div>\n",
       "<style scoped>\n",
       "    .dataframe tbody tr th:only-of-type {\n",
       "        vertical-align: middle;\n",
       "    }\n",
       "\n",
       "    .dataframe tbody tr th {\n",
       "        vertical-align: top;\n",
       "    }\n",
       "\n",
       "    .dataframe thead th {\n",
       "        text-align: right;\n",
       "    }\n",
       "</style>\n",
       "<table border=\"1\" class=\"dataframe\">\n",
       "  <thead>\n",
       "    <tr style=\"text-align: right;\">\n",
       "      <th></th>\n",
       "      <th>Nazwa</th>\n",
       "      <th>2019Q2_aktywa</th>\n",
       "      <th>2019Q1_aktywa</th>\n",
       "      <th>2018Q2_aktywa</th>\n",
       "      <th>2019Q2_mobile</th>\n",
       "      <th>2019Q1_mobile</th>\n",
       "      <th>2018Q2_mobile</th>\n",
       "      <th>2019Q2_internet</th>\n",
       "      <th>2019Q1_internet</th>\n",
       "      <th>2018Q2_internet</th>\n",
       "      <th>...</th>\n",
       "      <th>2018Q2_placowki</th>\n",
       "      <th>2019Q2_partner</th>\n",
       "      <th>2019Q1_partner</th>\n",
       "      <th>2018Q2_partner</th>\n",
       "      <th>2019Q2_etat</th>\n",
       "      <th>2019Q1_etat</th>\n",
       "      <th>2018Q2_etat</th>\n",
       "      <th>2019Q2_etat_grupa</th>\n",
       "      <th>2019Q1_etat_grupa</th>\n",
       "      <th>2018Q2_etat_grupa</th>\n",
       "    </tr>\n",
       "  </thead>\n",
       "  <tbody>\n",
       "    <tr>\n",
       "      <th>12</th>\n",
       "      <td>PKO BP</td>\n",
       "      <td>2.439176</td>\n",
       "      <td>2.451434</td>\n",
       "      <td>2.549791</td>\n",
       "      <td>2.272044</td>\n",
       "      <td>2.289286</td>\n",
       "      <td>2.208174</td>\n",
       "      <td>2.870860</td>\n",
       "      <td>3.180157</td>\n",
       "      <td>3.212267</td>\n",
       "      <td>...</td>\n",
       "      <td>2.699725</td>\n",
       "      <td>0.087071</td>\n",
       "      <td>0.104621</td>\n",
       "      <td>0.147944</td>\n",
       "      <td>2.867369</td>\n",
       "      <td>2.842515</td>\n",
       "      <td>2.940044</td>\n",
       "      <td>2.707886</td>\n",
       "      <td>2.691490</td>\n",
       "      <td>2.777432</td>\n",
       "    </tr>\n",
       "    <tr>\n",
       "      <th>2</th>\n",
       "      <td>Bank Pekao</td>\n",
       "      <td>1.170632</td>\n",
       "      <td>1.173505</td>\n",
       "      <td>1.287303</td>\n",
       "      <td>0.430077</td>\n",
       "      <td>0.354995</td>\n",
       "      <td>0.389769</td>\n",
       "      <td>0.495076</td>\n",
       "      <td>0.363630</td>\n",
       "      <td>0.395437</td>\n",
       "      <td>...</td>\n",
       "      <td>1.632315</td>\n",
       "      <td>-0.387541</td>\n",
       "      <td>-0.389552</td>\n",
       "      <td>-0.382783</td>\n",
       "      <td>1.243987</td>\n",
       "      <td>1.244292</td>\n",
       "      <td>1.360658</td>\n",
       "      <td>1.237344</td>\n",
       "      <td>1.274860</td>\n",
       "      <td>1.356310</td>\n",
       "    </tr>\n",
       "    <tr>\n",
       "      <th>14</th>\n",
       "      <td>Santander Bank Polska</td>\n",
       "      <td>1.076719</td>\n",
       "      <td>1.127290</td>\n",
       "      <td>0.882881</td>\n",
       "      <td>0.758496</td>\n",
       "      <td>0.778664</td>\n",
       "      <td>0.771821</td>\n",
       "      <td>0.745633</td>\n",
       "      <td>0.547319</td>\n",
       "      <td>0.430198</td>\n",
       "      <td>...</td>\n",
       "      <td>0.610887</td>\n",
       "      <td>-0.276857</td>\n",
       "      <td>-0.278850</td>\n",
       "      <td>-0.282112</td>\n",
       "      <td>0.685782</td>\n",
       "      <td>0.762614</td>\n",
       "      <td>0.695584</td>\n",
       "      <td>0.910259</td>\n",
       "      <td>0.997157</td>\n",
       "      <td>0.972748</td>\n",
       "    </tr>\n",
       "    <tr>\n",
       "      <th>10</th>\n",
       "      <td>ING Bank Śląski</td>\n",
       "      <td>0.688055</td>\n",
       "      <td>0.616714</td>\n",
       "      <td>0.616873</td>\n",
       "      <td>1.142726</td>\n",
       "      <td>1.153556</td>\n",
       "      <td>1.170503</td>\n",
       "      <td>0.777188</td>\n",
       "      <td>0.572506</td>\n",
       "      <td>0.567629</td>\n",
       "      <td>...</td>\n",
       "      <td>-0.006569</td>\n",
       "      <td>-0.387541</td>\n",
       "      <td>-0.389552</td>\n",
       "      <td>-0.382783</td>\n",
       "      <td>0.111283</td>\n",
       "      <td>0.088829</td>\n",
       "      <td>0.107505</td>\n",
       "      <td>0.149960</td>\n",
       "      <td>0.156381</td>\n",
       "      <td>0.177946</td>\n",
       "    </tr>\n",
       "    <tr>\n",
       "      <th>11</th>\n",
       "      <td>mBank</td>\n",
       "      <td>0.652702</td>\n",
       "      <td>0.622833</td>\n",
       "      <td>0.680502</td>\n",
       "      <td>1.588438</td>\n",
       "      <td>1.597291</td>\n",
       "      <td>1.733199</td>\n",
       "      <td>0.756316</td>\n",
       "      <td>0.580184</td>\n",
       "      <td>0.596010</td>\n",
       "      <td>...</td>\n",
       "      <td>-0.702848</td>\n",
       "      <td>-0.350351</td>\n",
       "      <td>-0.352356</td>\n",
       "      <td>-0.345694</td>\n",
       "      <td>-0.174287</td>\n",
       "      <td>-0.198083</td>\n",
       "      <td>-0.215740</td>\n",
       "      <td>-0.034642</td>\n",
       "      <td>-0.033653</td>\n",
       "      <td>-0.033832</td>\n",
       "    </tr>\n",
       "  </tbody>\n",
       "</table>\n",
       "<p>5 rows × 49 columns</p>\n",
       "</div>"
      ],
      "text/plain": [
       "                    Nazwa  2019Q2_aktywa  2019Q1_aktywa  2018Q2_aktywa  \\\n",
       "12                 PKO BP       2.439176       2.451434       2.549791   \n",
       "2              Bank Pekao       1.170632       1.173505       1.287303   \n",
       "14  Santander Bank Polska       1.076719       1.127290       0.882881   \n",
       "10        ING Bank Śląski       0.688055       0.616714       0.616873   \n",
       "11                  mBank       0.652702       0.622833       0.680502   \n",
       "\n",
       "    2019Q2_mobile  2019Q1_mobile  2018Q2_mobile  2019Q2_internet  \\\n",
       "12       2.272044       2.289286       2.208174         2.870860   \n",
       "2        0.430077       0.354995       0.389769         0.495076   \n",
       "14       0.758496       0.778664       0.771821         0.745633   \n",
       "10       1.142726       1.153556       1.170503         0.777188   \n",
       "11       1.588438       1.597291       1.733199         0.756316   \n",
       "\n",
       "    2019Q1_internet  2018Q2_internet        ...          2018Q2_placowki  \\\n",
       "12         3.180157         3.212267        ...                 2.699725   \n",
       "2          0.363630         0.395437        ...                 1.632315   \n",
       "14         0.547319         0.430198        ...                 0.610887   \n",
       "10         0.572506         0.567629        ...                -0.006569   \n",
       "11         0.580184         0.596010        ...                -0.702848   \n",
       "\n",
       "    2019Q2_partner  2019Q1_partner  2018Q2_partner  2019Q2_etat  2019Q1_etat  \\\n",
       "12        0.087071        0.104621        0.147944     2.867369     2.842515   \n",
       "2        -0.387541       -0.389552       -0.382783     1.243987     1.244292   \n",
       "14       -0.276857       -0.278850       -0.282112     0.685782     0.762614   \n",
       "10       -0.387541       -0.389552       -0.382783     0.111283     0.088829   \n",
       "11       -0.350351       -0.352356       -0.345694    -0.174287    -0.198083   \n",
       "\n",
       "    2018Q2_etat  2019Q2_etat_grupa  2019Q1_etat_grupa  2018Q2_etat_grupa  \n",
       "12     2.940044           2.707886           2.691490           2.777432  \n",
       "2      1.360658           1.237344           1.274860           1.356310  \n",
       "14     0.695584           0.910259           0.997157           0.972748  \n",
       "10     0.107505           0.149960           0.156381           0.177946  \n",
       "11    -0.215740          -0.034642          -0.033653          -0.033832  \n",
       "\n",
       "[5 rows x 49 columns]"
      ]
     },
     "execution_count": 3,
     "metadata": {},
     "output_type": "execute_result"
    }
   ],
   "source": [
    "def apply_scalers(df, columns_to_exclude=None):\n",
    "    if columns_to_exclude:\n",
    "        exclude_filter = ~df.columns.isin(columns_to_exclude) \n",
    "    else:\n",
    "        exclude_filter = ~df.columns.isin([]) \n",
    "    for column in df.iloc[:, exclude_filter].columns:\n",
    "        df[column] = df[column].astype(float)\n",
    "\n",
    "    df.loc[:, exclude_filter] = StandardScaler().fit_transform(df.loc[:, exclude_filter])\n",
    "    return df\n",
    "\n",
    "df = apply_scalers(df, columns_to_exclude=['Nazwa'])\n",
    "df.sort_values(by='2019Q2_aktywa', ascending=False).head()"
   ]
  },
  {
   "cell_type": "markdown",
   "metadata": {},
   "source": [
    "#### PCA"
   ]
  },
  {
   "cell_type": "markdown",
   "metadata": {},
   "source": [
    "W celu wykonania analizy głównych składowych można wykorzystać funkcję *PCA* z pakietu *sklearn.decomposition*. Najważniejsze parametry funkcji: \n",
    "\n",
    "* *n_components* - liczba *n* czynników w nowej przestrzeni \n",
    "* *svd_solver* - typ dekompozycji macierzy. Dostępne wartości: *auto, full, arpack, randomized*\n",
    "\n",
    "Więcej o parametrach: https://scikit-learn.org/stable/modules/generated/sklearn.decomposition.PCA.html"
   ]
  },
  {
   "cell_type": "code",
   "execution_count": 4,
   "metadata": {
    "ExecuteTime": {
     "end_time": "2019-10-15T20:27:38.920613Z",
     "start_time": "2019-10-15T20:27:38.901095Z"
    }
   },
   "outputs": [],
   "source": [
    "# kolumny do wykluczenia (te na których nie chcemy PCA)\n",
    "exclude_filter = ~df.columns.isin(['Nazwa']) \n",
    "# liczba głównych składowych\n",
    "pca = PCA(n_components = 3)\n",
    "# przeliczenie\n",
    "principal_components = pca.fit_transform(df.loc[:, exclude_filter])"
   ]
  },
  {
   "cell_type": "code",
   "execution_count": 5,
   "metadata": {
    "ExecuteTime": {
     "end_time": "2019-10-15T20:27:38.957123Z",
     "start_time": "2019-10-15T20:27:38.925120Z"
    }
   },
   "outputs": [
    {
     "data": {
      "text/html": [
       "<div>\n",
       "<style scoped>\n",
       "    .dataframe tbody tr th:only-of-type {\n",
       "        vertical-align: middle;\n",
       "    }\n",
       "\n",
       "    .dataframe tbody tr th {\n",
       "        vertical-align: top;\n",
       "    }\n",
       "\n",
       "    .dataframe thead th {\n",
       "        text-align: right;\n",
       "    }\n",
       "</style>\n",
       "<table border=\"1\" class=\"dataframe\">\n",
       "  <thead>\n",
       "    <tr style=\"text-align: right;\">\n",
       "      <th></th>\n",
       "      <th>principal component 1</th>\n",
       "      <th>principal component 2</th>\n",
       "      <th>principal component 3</th>\n",
       "      <th>Nazwa</th>\n",
       "    </tr>\n",
       "  </thead>\n",
       "  <tbody>\n",
       "    <tr>\n",
       "      <th>0</th>\n",
       "      <td>0.077224</td>\n",
       "      <td>-0.478463</td>\n",
       "      <td>-0.087593</td>\n",
       "      <td>Alior Bank</td>\n",
       "    </tr>\n",
       "    <tr>\n",
       "      <th>1</th>\n",
       "      <td>-0.155617</td>\n",
       "      <td>-1.011251</td>\n",
       "      <td>-1.684940</td>\n",
       "      <td>Bank Millennium</td>\n",
       "    </tr>\n",
       "    <tr>\n",
       "      <th>2</th>\n",
       "      <td>5.806928</td>\n",
       "      <td>1.201618</td>\n",
       "      <td>4.169210</td>\n",
       "      <td>Bank Pekao</td>\n",
       "    </tr>\n",
       "    <tr>\n",
       "      <th>3</th>\n",
       "      <td>-5.294890</td>\n",
       "      <td>2.552920</td>\n",
       "      <td>-1.466663</td>\n",
       "      <td>Bank Pocztowy</td>\n",
       "    </tr>\n",
       "    <tr>\n",
       "      <th>4</th>\n",
       "      <td>-0.352859</td>\n",
       "      <td>0.743658</td>\n",
       "      <td>3.437079</td>\n",
       "      <td>BNP Paribas</td>\n",
       "    </tr>\n",
       "    <tr>\n",
       "      <th>5</th>\n",
       "      <td>-5.629305</td>\n",
       "      <td>0.439033</td>\n",
       "      <td>-0.216447</td>\n",
       "      <td>BOŚ Bank</td>\n",
       "    </tr>\n",
       "    <tr>\n",
       "      <th>6</th>\n",
       "      <td>-4.457429</td>\n",
       "      <td>-0.159757</td>\n",
       "      <td>0.291037</td>\n",
       "      <td>Citi Handlowy</td>\n",
       "    </tr>\n",
       "    <tr>\n",
       "      <th>7</th>\n",
       "      <td>-3.445918</td>\n",
       "      <td>0.670329</td>\n",
       "      <td>0.131263</td>\n",
       "      <td>Credit Agricole</td>\n",
       "    </tr>\n",
       "    <tr>\n",
       "      <th>8</th>\n",
       "      <td>-4.288005</td>\n",
       "      <td>0.907453</td>\n",
       "      <td>-0.374221</td>\n",
       "      <td>Eurobank</td>\n",
       "    </tr>\n",
       "    <tr>\n",
       "      <th>9</th>\n",
       "      <td>-4.828903</td>\n",
       "      <td>1.215840</td>\n",
       "      <td>0.050449</td>\n",
       "      <td>Getin Noble Bank</td>\n",
       "    </tr>\n",
       "    <tr>\n",
       "      <th>10</th>\n",
       "      <td>4.119365</td>\n",
       "      <td>-3.867870</td>\n",
       "      <td>-1.574634</td>\n",
       "      <td>ING Bank Śląski</td>\n",
       "    </tr>\n",
       "    <tr>\n",
       "      <th>11</th>\n",
       "      <td>3.433145</td>\n",
       "      <td>-3.815277</td>\n",
       "      <td>-2.607648</td>\n",
       "      <td>mBank</td>\n",
       "    </tr>\n",
       "    <tr>\n",
       "      <th>12</th>\n",
       "      <td>14.902304</td>\n",
       "      <td>4.981560</td>\n",
       "      <td>-2.300817</td>\n",
       "      <td>PKO BP</td>\n",
       "    </tr>\n",
       "    <tr>\n",
       "      <th>13</th>\n",
       "      <td>-5.943884</td>\n",
       "      <td>0.351416</td>\n",
       "      <td>-0.362030</td>\n",
       "      <td>Plus Bank</td>\n",
       "    </tr>\n",
       "    <tr>\n",
       "      <th>14</th>\n",
       "      <td>6.057844</td>\n",
       "      <td>-3.731211</td>\n",
       "      <td>2.595956</td>\n",
       "      <td>Santander Bank Polska</td>\n",
       "    </tr>\n",
       "  </tbody>\n",
       "</table>\n",
       "</div>"
      ],
      "text/plain": [
       "    principal component 1  principal component 2  principal component 3  \\\n",
       "0                0.077224              -0.478463              -0.087593   \n",
       "1               -0.155617              -1.011251              -1.684940   \n",
       "2                5.806928               1.201618               4.169210   \n",
       "3               -5.294890               2.552920              -1.466663   \n",
       "4               -0.352859               0.743658               3.437079   \n",
       "5               -5.629305               0.439033              -0.216447   \n",
       "6               -4.457429              -0.159757               0.291037   \n",
       "7               -3.445918               0.670329               0.131263   \n",
       "8               -4.288005               0.907453              -0.374221   \n",
       "9               -4.828903               1.215840               0.050449   \n",
       "10               4.119365              -3.867870              -1.574634   \n",
       "11               3.433145              -3.815277              -2.607648   \n",
       "12              14.902304               4.981560              -2.300817   \n",
       "13              -5.943884               0.351416              -0.362030   \n",
       "14               6.057844              -3.731211               2.595956   \n",
       "\n",
       "                    Nazwa  \n",
       "0              Alior Bank  \n",
       "1         Bank Millennium  \n",
       "2              Bank Pekao  \n",
       "3           Bank Pocztowy  \n",
       "4             BNP Paribas  \n",
       "5                BOŚ Bank  \n",
       "6           Citi Handlowy  \n",
       "7         Credit Agricole  \n",
       "8                Eurobank  \n",
       "9        Getin Noble Bank  \n",
       "10        ING Bank Śląski  \n",
       "11                  mBank  \n",
       "12                 PKO BP  \n",
       "13              Plus Bank  \n",
       "14  Santander Bank Polska  "
      ]
     },
     "execution_count": 5,
     "metadata": {},
     "output_type": "execute_result"
    }
   ],
   "source": [
    "principal_df = pd.DataFrame(data = principal_components, \n",
    "                           columns = ['principal component 1', 'principal component 2', 'principal component 3'])\n",
    "\n",
    "principal_df['Nazwa'] = df['Nazwa']\n",
    "principal_df"
   ]
  },
  {
   "cell_type": "code",
   "execution_count": 6,
   "metadata": {
    "ExecuteTime": {
     "end_time": "2019-10-15T20:27:43.202629Z",
     "start_time": "2019-10-15T20:27:38.961122Z"
    }
   },
   "outputs": [
    {
     "data": {
      "text/html": [
       "<script>requirejs.config({paths: { 'plotly': ['https://cdn.plot.ly/plotly-latest.min']},});if(!window.Plotly) {{require(['plotly'],function(plotly) {window.Plotly=plotly;});}}</script>"
      ],
      "text/vnd.plotly.v1+html": [
       "<script>requirejs.config({paths: { 'plotly': ['https://cdn.plot.ly/plotly-latest.min']},});if(!window.Plotly) {{require(['plotly'],function(plotly) {window.Plotly=plotly;});}}</script>"
      ]
     },
     "metadata": {},
     "output_type": "display_data"
    }
   ],
   "source": [
    "import pandas as pd\n",
    "import seaborn as sns\n",
    "\n",
    "import plotly.plotly as py\n",
    "import plotly.graph_objs as go\n",
    "from plotly.offline import download_plotlyjs, init_notebook_mode, plot, iplot\n",
    "\n",
    "init_notebook_mode(connected=True)"
   ]
  },
  {
   "cell_type": "code",
   "execution_count": 7,
   "metadata": {
    "ExecuteTime": {
     "end_time": "2019-10-15T20:27:45.734775Z",
     "start_time": "2019-10-15T20:27:43.206630Z"
    }
   },
   "outputs": [
    {
     "data": {
      "application/vnd.plotly.v1+json": {
       "data": [
        {
         "marker": {
          "color": "rgb(228,26,28)",
          "line": {
           "color": "rgb(0, 0, 0)",
           "width": 1
          },
          "size": 10
         },
         "mode": "markers+text",
         "name": "Piony",
         "text": [
          "Alior Bank",
          "Bank Millennium",
          "Bank Pekao",
          "Bank Pocztowy",
          "BNP Paribas",
          "BOŚ Bank",
          "Citi Handlowy",
          "Credit Agricole",
          "Eurobank",
          "Getin Noble Bank",
          "ING Bank Śląski",
          "mBank",
          "PKO BP",
          "Plus Bank",
          "Santander Bank Polska"
         ],
         "textposition": "top center",
         "type": "scatter",
         "uid": "3e139442-ef8a-11e9-87a4-648099b825ad",
         "x": [
          0.07722420557255542,
          -0.1556171416792492,
          5.806927890707044,
          -5.2948902679773235,
          -0.3528589218298339,
          -5.629305188269661,
          -4.457428590914357,
          -3.4459182423971635,
          -4.288004529900996,
          -4.828903232372418,
          4.119364940666173,
          3.4331452159105615,
          14.902303955880136,
          -5.94388389485466,
          6.057843801459178
         ],
         "y": [
          -0.478462709319263,
          -1.0112512890842225,
          1.2016178799104147,
          2.5529196153641456,
          0.7436584878718432,
          0.43903348255354563,
          -0.15975699483090075,
          0.6703294571134311,
          0.9074525320255472,
          1.2158404086031906,
          -3.8678696738381264,
          -3.8152766245202825,
          4.981560374521743,
          0.35141594894858685,
          -3.731210895319653
         ]
        }
       ],
       "layout": {
        "title": "Podobieństwo Banków na podstawie PCA",
        "xaxis": {
         "title": "PC1 (principal component 1)",
         "zeroline": false
        },
        "yaxis": {
         "title": "PC2 (principal component 2)",
         "zeroline": false
        }
       }
      },
      "text/html": [
       "<div id=\"e2f4c586-0f1f-4482-8155-de87801b49d5\" style=\"height: 525px; width: 100%;\" class=\"plotly-graph-div\"></div><script type=\"text/javascript\">require([\"plotly\"], function(Plotly) { window.PLOTLYENV=window.PLOTLYENV || {};window.PLOTLYENV.BASE_URL=\"https://plot.ly\";Plotly.newPlot(\"e2f4c586-0f1f-4482-8155-de87801b49d5\", [{\"marker\": {\"color\": \"rgb(228,26,28)\", \"line\": {\"color\": \"rgb(0, 0, 0)\", \"width\": 1}, \"size\": 10}, \"mode\": \"markers+text\", \"name\": \"Piony\", \"text\": [\"Alior Bank\", \"Bank Millennium\", \"Bank Pekao\", \"Bank Pocztowy\", \"BNP Paribas\", \"BO\\u015a Bank\", \"Citi Handlowy\", \"Credit Agricole\", \"Eurobank\", \"Getin Noble Bank\", \"ING Bank \\u015al\\u0105ski\", \"mBank\", \"PKO BP\", \"Plus Bank\", \"Santander Bank Polska\"], \"textposition\": \"top center\", \"x\": [0.07722420557255542, -0.1556171416792492, 5.806927890707044, -5.2948902679773235, -0.3528589218298339, -5.629305188269661, -4.457428590914357, -3.4459182423971635, -4.288004529900996, -4.828903232372418, 4.119364940666173, 3.4331452159105615, 14.902303955880136, -5.94388389485466, 6.057843801459178], \"y\": [-0.478462709319263, -1.0112512890842225, 1.2016178799104147, 2.5529196153641456, 0.7436584878718432, 0.43903348255354563, -0.15975699483090075, 0.6703294571134311, 0.9074525320255472, 1.2158404086031906, -3.8678696738381264, -3.8152766245202825, 4.981560374521743, 0.35141594894858685, -3.731210895319653], \"type\": \"scatter\", \"uid\": \"3f3d728c-ef8a-11e9-bc3c-648099b825ad\"}], {\"title\": \"Podobie\\u0144stwo Bank\\u00f3w na podstawie PCA\", \"xaxis\": {\"title\": \"PC1 (principal component 1)\", \"zeroline\": false}, \"yaxis\": {\"title\": \"PC2 (principal component 2)\", \"zeroline\": false}}, {\"showLink\": true, \"linkText\": \"Export to plot.ly\"})});</script>"
      ],
      "text/vnd.plotly.v1+html": [
       "<div id=\"e2f4c586-0f1f-4482-8155-de87801b49d5\" style=\"height: 525px; width: 100%;\" class=\"plotly-graph-div\"></div><script type=\"text/javascript\">require([\"plotly\"], function(Plotly) { window.PLOTLYENV=window.PLOTLYENV || {};window.PLOTLYENV.BASE_URL=\"https://plot.ly\";Plotly.newPlot(\"e2f4c586-0f1f-4482-8155-de87801b49d5\", [{\"marker\": {\"color\": \"rgb(228,26,28)\", \"line\": {\"color\": \"rgb(0, 0, 0)\", \"width\": 1}, \"size\": 10}, \"mode\": \"markers+text\", \"name\": \"Piony\", \"text\": [\"Alior Bank\", \"Bank Millennium\", \"Bank Pekao\", \"Bank Pocztowy\", \"BNP Paribas\", \"BO\\u015a Bank\", \"Citi Handlowy\", \"Credit Agricole\", \"Eurobank\", \"Getin Noble Bank\", \"ING Bank \\u015al\\u0105ski\", \"mBank\", \"PKO BP\", \"Plus Bank\", \"Santander Bank Polska\"], \"textposition\": \"top center\", \"x\": [0.07722420557255542, -0.1556171416792492, 5.806927890707044, -5.2948902679773235, -0.3528589218298339, -5.629305188269661, -4.457428590914357, -3.4459182423971635, -4.288004529900996, -4.828903232372418, 4.119364940666173, 3.4331452159105615, 14.902303955880136, -5.94388389485466, 6.057843801459178], \"y\": [-0.478462709319263, -1.0112512890842225, 1.2016178799104147, 2.5529196153641456, 0.7436584878718432, 0.43903348255354563, -0.15975699483090075, 0.6703294571134311, 0.9074525320255472, 1.2158404086031906, -3.8678696738381264, -3.8152766245202825, 4.981560374521743, 0.35141594894858685, -3.731210895319653], \"type\": \"scatter\", \"uid\": \"3f3d728c-ef8a-11e9-bc3c-648099b825ad\"}], {\"title\": \"Podobie\\u0144stwo Bank\\u00f3w na podstawie PCA\", \"xaxis\": {\"title\": \"PC1 (principal component 1)\", \"zeroline\": false}, \"yaxis\": {\"title\": \"PC2 (principal component 2)\", \"zeroline\": false}}, {\"showLink\": true, \"linkText\": \"Export to plot.ly\"})});</script>"
      ]
     },
     "metadata": {},
     "output_type": "display_data"
    }
   ],
   "source": [
    "trace0 = go.Scatter(\n",
    "    x = principal_df['principal component 1'],\n",
    "    y = principal_df['principal component 2'],\n",
    "    text=principal_df['Nazwa'],\n",
    "    textposition=\"top center\",\n",
    "    name = 'Piony',\n",
    "    mode = 'markers+text',\n",
    "    marker = dict(\n",
    "        size = 10,\n",
    "        color = 'rgb(228,26,28)',\n",
    "        line = dict(\n",
    "            width = 1,\n",
    "            color = 'rgb(0, 0, 0)'\n",
    "        )\n",
    "    )\n",
    ")\n",
    "\n",
    "data = [trace0]\n",
    "\n",
    "layout = dict(title = 'Podobieństwo Banków na podstawie PCA',\n",
    "              yaxis = dict(zeroline = False, title ='PC2 (principal component 2)'),\n",
    "              xaxis = dict(zeroline = False, title ='PC1 (principal component 1)')\n",
    "             )\n",
    "\n",
    "fig = dict(data=data, layout=layout)\n",
    "iplot(fig, filename='styled-scatter')"
   ]
  },
  {
   "cell_type": "markdown",
   "metadata": {
    "ExecuteTime": {
     "end_time": "2019-06-24T14:21:29.562934Z",
     "start_time": "2019-06-24T14:21:29.557924Z"
    }
   },
   "source": [
    "#### PCA - jak dobrać liczbę komponentów? "
   ]
  },
  {
   "cell_type": "markdown",
   "metadata": {},
   "source": [
    "Pierwszym ze sposób jest wizualizacja skumulowanej wartości wariancji w zależności od liczby komponentów. Z wykresu można  odczytać, że 4 pierwszych czynników może wyjaśnić ponad 95% całkowitej wariancji.  "
   ]
  },
  {
   "cell_type": "code",
   "execution_count": 8,
   "metadata": {
    "ExecuteTime": {
     "end_time": "2019-10-15T20:27:46.050797Z",
     "start_time": "2019-10-15T20:27:45.738775Z"
    }
   },
   "outputs": [
    {
     "data": {
      "image/png": "[encoded data removed]",
      "text/plain": [
       "<Figure size 720x432 with 1 Axes>"
      ]
     },
     "metadata": {},
     "output_type": "display_data"
    }
   ],
   "source": [
    "import numpy as np\n",
    "pca = PCA().fit(df.loc[:, exclude_filter])\n",
    "plt.figure(figsize=(10,6))\n",
    "plt.plot(np.cumsum(pca.explained_variance_ratio_))\n",
    "plt.xlabel('number of components')\n",
    "plt.ylabel('cumulative explained variance');"
   ]
  },
  {
   "cell_type": "markdown",
   "metadata": {},
   "source": [
    "##### Wykorzystanie parametru svd_solver.\n",
    "\n",
    "Jeżeli **0 < *n_components* < 1** oraz ***svd_solver = 'full'*** to funkcja PCA wybiera liczbę komponentów, tak aby wielkość wariancji, którą należy wyjaśnić, była większa niż procent określony przez *n_components*."
   ]
  },
  {
   "cell_type": "code",
   "execution_count": 9,
   "metadata": {
    "ExecuteTime": {
     "end_time": "2019-10-15T20:27:46.090794Z",
     "start_time": "2019-10-15T20:27:46.054791Z"
    }
   },
   "outputs": [
    {
     "data": {
      "text/html": [
       "<div>\n",
       "<style scoped>\n",
       "    .dataframe tbody tr th:only-of-type {\n",
       "        vertical-align: middle;\n",
       "    }\n",
       "\n",
       "    .dataframe tbody tr th {\n",
       "        vertical-align: top;\n",
       "    }\n",
       "\n",
       "    .dataframe thead th {\n",
       "        text-align: right;\n",
       "    }\n",
       "</style>\n",
       "<table border=\"1\" class=\"dataframe\">\n",
       "  <thead>\n",
       "    <tr style=\"text-align: right;\">\n",
       "      <th></th>\n",
       "      <th>0</th>\n",
       "      <th>1</th>\n",
       "      <th>2</th>\n",
       "      <th>3</th>\n",
       "      <th>4</th>\n",
       "    </tr>\n",
       "  </thead>\n",
       "  <tbody>\n",
       "    <tr>\n",
       "      <th>0</th>\n",
       "      <td>0.077224</td>\n",
       "      <td>-0.478463</td>\n",
       "      <td>-0.087593</td>\n",
       "      <td>0.572624</td>\n",
       "      <td>-0.339989</td>\n",
       "    </tr>\n",
       "    <tr>\n",
       "      <th>1</th>\n",
       "      <td>-0.155617</td>\n",
       "      <td>-1.011251</td>\n",
       "      <td>-1.684940</td>\n",
       "      <td>-0.574601</td>\n",
       "      <td>-1.846124</td>\n",
       "    </tr>\n",
       "    <tr>\n",
       "      <th>2</th>\n",
       "      <td>5.806928</td>\n",
       "      <td>1.201618</td>\n",
       "      <td>4.169210</td>\n",
       "      <td>-0.470419</td>\n",
       "      <td>3.186590</td>\n",
       "    </tr>\n",
       "    <tr>\n",
       "      <th>3</th>\n",
       "      <td>-5.294890</td>\n",
       "      <td>2.552920</td>\n",
       "      <td>-1.466663</td>\n",
       "      <td>5.367300</td>\n",
       "      <td>1.030006</td>\n",
       "    </tr>\n",
       "    <tr>\n",
       "      <th>4</th>\n",
       "      <td>-0.352859</td>\n",
       "      <td>0.743658</td>\n",
       "      <td>3.437079</td>\n",
       "      <td>0.144013</td>\n",
       "      <td>-1.211092</td>\n",
       "    </tr>\n",
       "  </tbody>\n",
       "</table>\n",
       "</div>"
      ],
      "text/plain": [
       "          0         1         2         3         4\n",
       "0  0.077224 -0.478463 -0.087593  0.572624 -0.339989\n",
       "1 -0.155617 -1.011251 -1.684940 -0.574601 -1.846124\n",
       "2  5.806928  1.201618  4.169210 -0.470419  3.186590\n",
       "3 -5.294890  2.552920 -1.466663  5.367300  1.030006\n",
       "4 -0.352859  0.743658  3.437079  0.144013 -1.211092"
      ]
     },
     "execution_count": 9,
     "metadata": {},
     "output_type": "execute_result"
    }
   ],
   "source": [
    "pca = PCA(svd_solver='full', n_components=0.95)\n",
    "principal_components = pca.fit_transform(df.loc[:, exclude_filter])\n",
    "principal_df = pd.DataFrame(data=principal_components)\n",
    "principal_df.head()"
   ]
  },
  {
   "cell_type": "code",
   "execution_count": null,
   "metadata": {},
   "outputs": [],
   "source": []
  }
 ],
 "metadata": {
  "kernelspec": {
   "display_name": "Python 3",
   "language": "python",
   "name": "python3"
  },
  "language_info": {
   "codemirror_mode": {
    "name": "ipython",
    "version": 3
   },
   "file_extension": ".py",
   "mimetype": "text/x-python",
   "name": "python",
   "nbconvert_exporter": "python",
   "pygments_lexer": "ipython3",
   "version": "3.6.5"
  },
  "toc": {
   "base_numbering": 1,
   "nav_menu": {},
   "number_sections": true,
   "sideBar": true,
   "skip_h1_title": false,
   "title_cell": "Table of Contents",
   "title_sidebar": "Contents",
   "toc_cell": false,
   "toc_position": {},
   "toc_section_display": true,
   "toc_window_display": false
  },
  "varInspector": {
   "cols": {
    "lenName": 16,
    "lenType": 16,
    "lenVar": 40
   },
   "kernels_config": {
    "python": {
     "delete_cmd_postfix": "",
     "delete_cmd_prefix": "del ",
     "library": "var_list.py",
     "varRefreshCmd": "print(var_dic_list())"
    },
    "r": {
     "delete_cmd_postfix": ") ",
     "delete_cmd_prefix": "rm(",
     "library": "var_list.r",
     "varRefreshCmd": "cat(var_dic_list()) "
    }
   },
   "types_to_exclude": [
    "module",
    "function",
    "builtin_function_or_method",
    "instance",
    "_Feature"
   ],
   "window_display": false
  }
 },
 "nbformat": 4,
 "nbformat_minor": 2
}
